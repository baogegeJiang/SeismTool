the note book is for hsr test
