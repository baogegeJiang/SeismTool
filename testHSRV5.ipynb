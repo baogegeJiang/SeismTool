{
 "cells": [
  {
   "cell_type": "code",
   "execution_count": 94,
   "source": [
    "from SeismTool.HSR import hsr\n",
    "from imp import reload\n",
    "from obspy import UTCDateTime,read\n",
    "from SeismTool.io import seism,dataLib\n",
    "from matplotlib import pyplot as plt\n",
    "import numpy as np\n",
    "from scipy import signal\n",
    "stations =  seism.StationList('hsrStd')\n",
    "#stations =  seism.StationList(seism.StationList('../stations/XA.Loc.201908.txt1'))\n",
    "stations.set('net','XA')\n",
    "stations.set('compBase','BH')\n",
    "stations.set('nameMode','RDDS')\n",
    "plt.close()\n",
    "plt.figure(figsize=[15,10])\n",
    "for station in stations:\n",
    "    plt.text(station['lo'],station['la'],station['sta'])\n",
    "plt.xlim([115.815,115.82])\n",
    "plt.ylim([39.118,39.126])\n",
    "#plt.show()"
   ],
   "outputs": [
    {
     "output_type": "execute_result",
     "data": {
      "text/plain": [
       "(39.118, 39.126)"
      ]
     },
     "metadata": {},
     "execution_count": 94
    }
   ],
   "metadata": {}
  },
  {
   "cell_type": "code",
   "execution_count": 95,
   "source": [
    "\n",
    "T0=1.567141351420457602e+09\n",
    "T3L = [seism.Trace3(seism.getTrace3ByFileName(station.\\\n",
    "    getFileNames(int(T0/86400)*86400,int(T0/86400)*86400+5*86400),freq=[0.5, 40],delta0=0.01)) for station in stations]\n",
    "reload(seism)\n",
    "reload(hsr)\n",
    "#T3L =[seism.Trace3(t3)for t3 in T3L]\n",
    "#x3 = T3L[0].cross(T3L[1].slice(T0,T0+3))\n",
    "h=hsr.hsr()\n",
    "eL=h.getCatolog(T3L,sta0='RD002',sta1='RD086',stations=stations)"
   ],
   "outputs": [
    {
     "output_type": "stream",
     "name": "stdout",
     "text": [
      "#####not too many noise std : 1275.192629#####\n",
      "#####not too many noise std : 1266.848357#####\n",
      "#####not too many noise std : 1085.966042#####\n",
      "#####not too many noise std : 3189.879927#####\n",
      "#####not too many noise std : 1696.481798#####\n",
      "#####not too many noise std : 1414.129869#####\n",
      "#####not too many noise std : 2961.420966#####\n",
      "#####not too many noise std : 1579.572317#####\n",
      "#####not too many noise std : 1727.741050#####\n",
      "#####not too many noise std : 2771.474307#####\n",
      "#####not too many noise std : 1939.328805#####\n",
      "#####not too many noise std : 1254.677458#####\n",
      "#####not too many noise std : 2494.593286#####\n",
      "#####not too many noise std : 2424.921635#####\n",
      "#####not too many noise std : 1371.049764#####\n",
      "#####not too many noise std : 3277.809899#####\n",
      "#####not too many noise std : 2974.217179#####\n",
      "#####not too many noise std : 2874.445657#####\n",
      "#####not too many noise std : 2334.199955#####\n",
      "#####not too many noise std : 1676.485125#####\n",
      "#####not too many noise std : 1372.876016#####\n",
      "#####not too many noise std : 1589.703415#####\n",
      "#####not too many noise std : 1198.859500#####\n",
      "#####not too many noise std : 1266.918800#####\n",
      "#####not too many noise std : 1478.088110#####\n",
      "#####not too many noise std : 1810.552316#####\n",
      "#####not too many noise std : 1228.457247#####\n",
      "#####not too many noise std : 2434.420710#####\n",
      "#####not too many noise std : 3068.726304#####\n",
      "#####not too many noise std : 1353.592670#####\n",
      "#####not too many noise std : 2553.021866#####\n",
      "#####not too many noise std : 2175.158647#####\n",
      "#####not too many noise std : 1942.542662#####\n",
      "#####not too many noise std : 3855.666559#####\n",
      "#####not too many noise std : 3070.688044#####\n",
      "#####not too many noise std : 1829.481838#####\n",
      "#####not too many noise std : 4443.867596#####\n",
      "#####not too many noise std : 2731.287673#####\n",
      "#####not too many noise std : 3808.973442#####\n",
      "#####not too many noise std : 2249.880013#####\n",
      "#####not too many noise std : 3670.198341#####\n",
      "#####not too many noise std : 2324.736131#####\n",
      "#####not too many noise std : 1592.295782#####\n",
      "#####not too many noise std : 4571.451072#####\n",
      "#####not too many noise std : 1263.289739#####\n",
      "#####not too many noise std : 2091.402096#####\n",
      "#####not too many noise std : 1972.248522#####\n",
      "#####not too many noise std : 1744.201844#####\n",
      "#####not too many noise std : 2962.708211#####\n",
      "#####not too many noise std : 3155.266870#####\n",
      "#####not too many noise std : 2873.738749#####\n",
      "23.75 1050 1064\n"
     ]
    }
   ],
   "metadata": {}
  },
  {
   "cell_type": "code",
   "execution_count": 103,
   "source": [
    "reload(seism)\n",
    "reload(hsr)\n",
    "delta=0.01\n",
    "from SeismTool.MFT.cudaFunc import torchcorrnn2np\n",
    "h=hsr.hsr()\n",
    "T3 =T3L[2].copy()\n",
    "T3.rotate(25)\n",
    "T3.filt([2,20],4)\n",
    "dataL,count = h.cossTT(T3,T3,eL[0::2],-2.5,2.5,100,V0=81,V1=83,NS=1,function=torchcorrnn2np)\n",
    "data = np.array(dataL)\n",
    "\n",
    "plt.close()\n",
    "#plt.pcolormesh(data,rasterized=True,cmap='bwr')\n",
    "#plt.colorbar()\n",
    "for i in range(0,len(data)):\n",
    "    plt.plot(np.arange(len(dataL[i]))*delta,i*3+dataL[i]*3,'k',linewidth=0.3)\n",
    "plt.plot(np.arange(len(dataL[i]))*delta,data.mean(axis=0)*10-5,'r',linewidth=0.3)\n",
    "plt.ylim([-10,i*3+10])\n",
    "plt.savefig('hsrFig/dataL.jpg',dpi=500)"
   ],
   "outputs": [],
   "metadata": {}
  },
  {
   "cell_type": "code",
   "execution_count": 105,
   "source": [
    "reload(seism)\n",
    "reload(hsr)\n",
    "dataM=[]\n",
    "delta=0.01\n",
    "for i in range(0,len(T3L),1):\n",
    "    if T3L[i].Data().size==0:\n",
    "        continue\n",
    "    T3 =T3L[i].copy()\n",
    "    T3.rotate(25)\n",
    "    T3.filt([1,20],4)\n",
    "    dataL,count = h.cossTT(T3,T3,eL[0::2],-2.5,2.5,100,V0=81,V1=83,NS=1,function=torchcorrnn2np)\n",
    "    dataM.append(np.array(dataL).mean(axis=0)) \n"
   ],
   "outputs": [],
   "metadata": {}
  },
  {
   "cell_type": "code",
   "execution_count": 102,
   "source": [
    "mul=10\n",
    "for i in range(0,len(dataM)):\n",
    "    plt.plot(np.arange(len(dataM[i]))*delta,i*3+dataM[i]*mul,'k',linewidth=0.1)\n",
    "plt.plot(np.arange(len(dataM[i]))*delta,data.mean(axis=0)*mul*2-5,'r',linewidth=0.1)\n",
    "plt.ylim([-10,i*3+10])\n",
    "plt.savefig('hsrFig/dataM.jpg',dpi=500)\n"
   ],
   "outputs": [],
   "metadata": {}
  }
 ],
 "metadata": {
  "orig_nbformat": 4,
  "language_info": {
   "name": "python",
   "version": "3.6.12",
   "mimetype": "text/x-python",
   "codemirror_mode": {
    "name": "ipython",
    "version": 3
   },
   "pygments_lexer": "ipython3",
   "nbconvert_exporter": "python",
   "file_extension": ".py"
  },
  "kernelspec": {
   "name": "python3",
   "display_name": "Python 3.6.12 64-bit ('seismToolNew': conda)"
  },
  "interpreter": {
   "hash": "eca6e0aa6427211e82afb4c5b42d79cfc91e0b3fac54caee4843c135abc5f6b3"
  }
 },
 "nbformat": 4,
 "nbformat_minor": 2
}